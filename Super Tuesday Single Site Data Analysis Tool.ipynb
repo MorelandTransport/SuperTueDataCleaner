{
 "cells": [
  {
   "cell_type": "markdown",
   "metadata": {},
   "source": [
    "# Super Tuesday Single Site Data Set Analysis tool."
   ]
  },
  {
   "cell_type": "markdown",
   "metadata": {},
   "source": [
    "## Select site of interest\n",
    "Enter the name the Count Site as described in the ../script_output/count_observations directory"
   ]
  },
  {
   "cell_type": "code",
   "execution_count": 1,
   "metadata": {
    "collapsed": true
   },
   "outputs": [],
   "source": [
    "site = 'B-SydneyRdParkSt'\n",
    "# Note: In the file system its Suburb dash road name"
   ]
  },
  {
   "cell_type": "code",
   "execution_count": 2,
   "metadata": {
    "collapsed": false
   },
   "outputs": [],
   "source": [
    "datadir = './script_output/count_observations/'\n",
    "target = datadir + site + \"/*/*\""
   ]
  },
  {
   "cell_type": "markdown",
   "metadata": {},
   "source": [
    "## Are you interested in the 7am - 9am period or the 'peak hour' of the survey?"
   ]
  },
  {
   "cell_type": "code",
   "execution_count": 3,
   "metadata": {
    "collapsed": true
   },
   "outputs": [],
   "source": [
    "# To report on peak hour leave this line uncommended and ensure \"reporting = '7to9'\" is commented out\n",
    "#reporting = 'peakhour'\n",
    "reporting = '7to9'"
   ]
  },
  {
   "cell_type": "markdown",
   "metadata": {},
   "source": [
    "## Are you interested in the intersection or the routes leading to the intersection?\n",
    "Change the \"interest\" value to focus on the road or shared path segment you are most interested in."
   ]
  },
  {
   "cell_type": "code",
   "execution_count": 4,
   "metadata": {
    "collapsed": true
   },
   "outputs": [],
   "source": [
    "allmoves = ['north_turn_left','north_through','north_turn_right',\\\n",
    "             'east_turn_left','east_through', 'east_turn_right',\\\n",
    "             'south_turn_left','south_through','south_turn_right',\\\n",
    "             'west_turn_left','west_through','west_turn_right']\n",
    "\n",
    "\n",
    "from_north =['north_turn_left','north_through','north_turn_right']\n",
    "to_north = ['west_turn_left','south_through', 'east_turn_right']\n",
    "\n",
    "path_north_of_intersection = from_north + to_north\n",
    "\n",
    "\n",
    "from_east = ['east_turn_left', 'east_through', 'east_turn_right']\n",
    "to_east = ['south_turn_left', 'west_through', 'north_turn_right']\n",
    "\n",
    "path_east_of_intersection = from_east + to_east\n",
    "\n",
    "\n",
    "from_south =['south_turn_left', 'south_through', 'south_turn_right']\n",
    "to_south = ['east_turn_left', 'north_through', 'west_turn_right']\n",
    "\n",
    "path_south_of_intersection = from_south + to_south\n",
    "\n",
    "\n",
    "from_west = ['west_turn_left', 'west_through', 'west_turn_right']\n",
    "to_west = ['north_turn_left', 'east_through', 'south_turn_right']\n",
    "\n",
    "path_west_of_intersection = from_west + to_west"
   ]
  },
  {
   "cell_type": "code",
   "execution_count": 5,
   "metadata": {
    "collapsed": false
   },
   "outputs": [],
   "source": [
    "# Specify Directions of interest\n",
    "interest = allmoves\n",
    "\n",
    "#interest = from_north\n",
    "#interest = to_north\n",
    "#interest = path_north_of_intersection\n",
    "\n",
    "#interest = from_east\n",
    "#interest = to_east\n",
    "#interest = path_east_of_intersection\n",
    "\n",
    "#interest = from_south\n",
    "#interest = to_south\n",
    "#interest = path_south_of_intersection\n",
    "\n",
    "#interest = from_west\n",
    "#interest = to_west\n",
    "#interest = path_west_of_intersection\n",
    "\n",
    "\n",
    "goodcols = ['time', 'gender'] + interest"
   ]
  },
  {
   "cell_type": "markdown",
   "metadata": {},
   "source": [
    "## Are you interested in all riders at a count site, or a specific gender?"
   ]
  },
  {
   "cell_type": "code",
   "execution_count": 6,
   "metadata": {
    "collapsed": true
   },
   "outputs": [],
   "source": [
    "gender = 'allriders'\n",
    "#gender = 'female'\n",
    "#gender = 'male'"
   ]
  },
  {
   "cell_type": "markdown",
   "metadata": {},
   "source": [
    "### Collect totals for each survey year"
   ]
  },
  {
   "cell_type": "code",
   "execution_count": 7,
   "metadata": {
    "collapsed": false
   },
   "outputs": [
    {
     "data": {
      "text/html": [
       "<div>\n",
       "<table border=\"1\" class=\"dataframe\">\n",
       "  <thead>\n",
       "    <tr style=\"text-align: right;\">\n",
       "      <th></th>\n",
       "      <th>year</th>\n",
       "      <th>peakhour</th>\n",
       "      <th>volume</th>\n",
       "    </tr>\n",
       "  </thead>\n",
       "  <tbody>\n",
       "    <tr>\n",
       "      <th>2003</th>\n",
       "      <td>2003.0</td>\n",
       "      <td>Na</td>\n",
       "      <td>491.0</td>\n",
       "    </tr>\n",
       "    <tr>\n",
       "      <th>2009</th>\n",
       "      <td>2009.0</td>\n",
       "      <td>Na</td>\n",
       "      <td>740.0</td>\n",
       "    </tr>\n",
       "    <tr>\n",
       "      <th>2011</th>\n",
       "      <td>2011.0</td>\n",
       "      <td>Na</td>\n",
       "      <td>766.0</td>\n",
       "    </tr>\n",
       "    <tr>\n",
       "      <th>2013</th>\n",
       "      <td>2013.0</td>\n",
       "      <td>Na</td>\n",
       "      <td>747.0</td>\n",
       "    </tr>\n",
       "    <tr>\n",
       "      <th>2015</th>\n",
       "      <td>2015.0</td>\n",
       "      <td>Na</td>\n",
       "      <td>1063.0</td>\n",
       "    </tr>\n",
       "  </tbody>\n",
       "</table>\n",
       "</div>"
      ],
      "text/plain": [
       "        year peakhour  volume\n",
       "2003  2003.0       Na   491.0\n",
       "2009  2009.0       Na   740.0\n",
       "2011  2011.0       Na   766.0\n",
       "2013  2013.0       Na   747.0\n",
       "2015  2015.0       Na  1063.0"
      ]
     },
     "execution_count": 7,
     "metadata": {},
     "output_type": "execute_result"
    }
   ],
   "source": [
    "# Calculate bicycle volume for each survey year with gender flag\n",
    "import pandas as pd\n",
    "import glob\n",
    "import datetime as dt\n",
    "\n",
    "bikevolume = pd.DataFrame(columns=('year', 'peakhour','volume'))\n",
    "\n",
    "for f in glob.glob(target):\n",
    "    countobs = pd.read_csv(f, sep=', ', header = 0, usecols = goodcols, parse_dates=[0], \\\n",
    "                           infer_datetime_format=True, engine = 'python')\n",
    "    \n",
    "    if gender == 'female':\n",
    "        females = countobs.query('gender == \"F\"')\n",
    "        females.index = females['time']\n",
    "\n",
    "        cols = list(females)\n",
    "        cols.remove('time')\n",
    "        cols.remove('gender')\n",
    "\n",
    "        riders = females[cols]     \n",
    "    \n",
    "    elif gender == 'male':\n",
    "        males = countobs.query('gender == \"M\"')\n",
    "        males.index = males['time']\n",
    "\n",
    "        cols = list(males)\n",
    "        cols.remove('time')\n",
    "        cols.remove('gender')\n",
    "\n",
    "        riders = males[cols] \n",
    "    \n",
    "    else:\n",
    "        riders = pd.DataFrame(countobs.groupby('time').sum())\n",
    "\n",
    "    ridertotal = pd.DataFrame()\n",
    "    ridertotal['total'] = riders.sum(axis=1,numeric_only=True)\n",
    "\n",
    "    if reporting == 'peakhour':\n",
    "        volume = 0\n",
    "        ridertotal['hourlytotal'] = ridertotal.total.rolling(window=4,center=False).sum()\n",
    "        volume = ridertotal.hourlytotal.max()\n",
    "        rawpeakhour = ridertotal.hourlytotal.idxmax()\n",
    "        peakhour = rawpeakhour - dt.timedelta(minutes=45)\n",
    "        # hourly.max will report the forth bin in the largest group of four bins  \n",
    "        # Bins are identified by their start time, so the peak hour starts 45min earlier than \"rawpeakhour\"\n",
    "        peakhour = peakhour.strftime('%H:%M')\n",
    "    else:\n",
    "        # Reporting == '7to9'\n",
    "        peakhour = 'Na'\n",
    "        volume = ridertotal.total.sum()\n",
    "        \n",
    "    year = ridertotal.index[1].year\n",
    "    bikevolume.loc[year] = [int(year), peakhour, int(volume)]\n",
    " \n",
    "bikevolume"
   ]
  },
  {
   "cell_type": "markdown",
   "metadata": {},
   "source": [
    "### Graph the results\n",
    "##### As a line graph"
   ]
  },
  {
   "cell_type": "code",
   "execution_count": 8,
   "metadata": {
    "collapsed": false
   },
   "outputs": [
    {
     "data": {
      "text/plain": [
       "<matplotlib.axes._subplots.AxesSubplot at 0x11350c090>"
      ]
     },
     "execution_count": 8,
     "metadata": {},
     "output_type": "execute_result"
    },
    {
     "data": {
      "image/png": "[encoded data removed]",
      "text/plain": [
       "<matplotlib.figure.Figure at 0x1134e4710>"
      ]
     },
     "metadata": {},
     "output_type": "display_data"
    }
   ],
   "source": [
    "import matplotlib.pyplot as plt\n",
    "%matplotlib inline \n",
    "plt.style.use('ggplot')\n",
    "bikevolume.volume.plot()\n",
    "\n"
   ]
  },
  {
   "cell_type": "markdown",
   "metadata": {},
   "source": [
    "##### As a scatter plot with trend line"
   ]
  },
  {
   "cell_type": "code",
   "execution_count": 9,
   "metadata": {
    "collapsed": false
   },
   "outputs": [
    {
     "data": {
      "image/png": "[encoded data removed]",
      "text/plain": [
       "<matplotlib.figure.Figure at 0x10b34edd0>"
      ]
     },
     "metadata": {},
     "output_type": "display_data"
    }
   ],
   "source": [
    "import matplotlib.pyplot as plt\n",
    "import numpy as np\n",
    " \n",
    "fit = np.polyfit(bikevolume.index,bikevolume.volume,1)\n",
    "fit_fn = np.poly1d(fit)\n",
    "\n",
    "plt.plot(bikevolume.index,bikevolume.volume,'yo', bikevolume.index, fit_fn(bikevolume.index), '--k')\n",
    "plt.show()"
   ]
  },
  {
   "cell_type": "markdown",
   "metadata": {},
   "source": [
    "### Use survey data to make predictions\n",
    "#### Calculate the annual increase in rider numbers.\n",
    "How many additional bike movements to we expect to see next year. \n",
    "The gradient of the trend line in the scatter plot  = number of additional riders per year.\n",
    "Calculating increase this way helps to minimise the impact of variation in samples (e.g. weather effects, counting errors etc)."
   ]
  },
  {
   "cell_type": "code",
   "execution_count": 10,
   "metadata": {
    "collapsed": false
   },
   "outputs": [
    {
     "data": {
      "text/plain": [
       "40"
      ]
     },
     "execution_count": 10,
     "metadata": {},
     "output_type": "execute_result"
    }
   ],
   "source": [
    "# Calculate Growth rates\n",
    "# Annual increse in riders.\n",
    "from scipy.stats import linregress\n",
    "\n",
    "bestfit = linregress(bikevolume.index, bikevolume.volume)\n",
    "annualincrease = int(round(bestfit.slope,0))\n",
    "annualincrease"
   ]
  },
  {
   "cell_type": "markdown",
   "metadata": {},
   "source": [
    "#### Use annual increase to estimate rider numbers in a future year."
   ]
  },
  {
   "cell_type": "code",
   "execution_count": 11,
   "metadata": {
    "collapsed": true
   },
   "outputs": [],
   "source": [
    "# Predict rider numbers for a given year based on linear trend growth\n",
    "predictionyr = 2017"
   ]
  },
  {
   "cell_type": "code",
   "execution_count": 12,
   "metadata": {
    "collapsed": false
   },
   "outputs": [
    {
     "data": {
      "text/plain": [
       "1033"
      ]
     },
     "execution_count": 12,
     "metadata": {},
     "output_type": "execute_result"
    }
   ],
   "source": [
    "from sklearn.linear_model import LinearRegression\n",
    "\n",
    "years = bikevolume.index\n",
    "years = np.array(years).reshape(len(years),1)\n",
    "\n",
    "model = LinearRegression()\n",
    "model.fit(years, bikevolume.volume)\n",
    "\n",
    "expectedriders = model.predict(predictionyr)\n",
    "expectedriders = int(round(expectedriders, 0))\n",
    "expectedriders"
   ]
  },
  {
   "cell_type": "markdown",
   "metadata": {},
   "source": [
    "#### Calculate an annualised growth rate"
   ]
  },
  {
   "cell_type": "code",
   "execution_count": 13,
   "metadata": {
    "collapsed": false
   },
   "outputs": [
    {
     "name": "stdout",
     "output_type": "stream",
     "text": [
      "Growth in rider numbers 3.87% p.a.\n"
     ]
    }
   ],
   "source": [
    "growthrate = float(annualincrease)/expectedriders*100\n",
    "growthrate = round(growthrate,2)\n",
    "\n",
    "print \"Growth in rider numbers \" + str(growthrate)  + \"% p.a.\""
   ]
  },
  {
   "cell_type": "markdown",
   "metadata": {
    "collapsed": true
   },
   "source": [
    "### Thoughts on graphs where the trend line is a poor fit to the scatter plot\n",
    "Using the linear trend as a measure of annualised growth trend assumes this the underlying changes in bike riding patterns is linear.  This might not be true at every site.  For example a site that has changed (e.g. because of a capital works program that makes a bike route better) might result in a change in rider numbers larger than the linear trend.  Causes for this 'larger than trend' increase could be:\n",
    " - existing riders changing their commute to work route or \n",
    " - previous non-riders changing their commuting patterns to become bike riders.\n",
    " \n",
    "Sites that have five or more observations and a scatter plot that doesn't fit a trendline are probably worth further investigation.\n",
    " "
   ]
  },
  {
   "cell_type": "markdown",
   "metadata": {},
   "source": [
    "### Peak hour volume\n",
    "Peak hour volume is the bike movements during the busiest hour (4 consecutive 15 minute sample bins) during the survey.  It is assumed that the busiest bicycle traffic volume hour occurs during the morning commuter peak and is over before 9am.  \n",
    "\n",
    "Peak hour is a valuable measure because:\n",
    "- It is easily understood\n",
    "- It is directly comparable to peak hour volume measurements for motor vehicle trafflc and pedestrian counts (although the 'peak bicycle hour' may occur at a different time to 'peak motor vehicle hour'.\n",
    "- Australian Standards for bicycle infrastructure design make recommendations for lane and path widths based on use during peak hour. \n",
    "\n",
    "However, as this peak hour result is derived from a small 7-9am sample, there is a reasonable chance that they busiest hour of the day lies outside the sample period.  The 'peak hour' reported from this dataset under estimate bicycle traffic volumes."
   ]
  },
  {
   "cell_type": "markdown",
   "metadata": {
    "collapsed": true
   },
   "source": [
    "### The 7am - 9am Morning Commute sample\n",
    "The 7am - 9am Morning commute sample is a data collection method unique to \"Super Tuesday\".  It can provide an estimate of all the bike commuters in the area if:\n",
    " - Count sites are on the most popular bike routes (cover the major exits to a suburb)\n",
    " - The sample period (7-9am) captures most of the commuting cycling 'rush hour' \n",
    " - Commuting cyclists take direct routes that avoid crossing a count site mulitple times.\n",
    "\n",
    "Limitations of the Super Tuesday method include:\n",
    "- Under counting for locations where the 'morning rush hour' extends beyond 9am.\n",
    "- Under counting for locations where a significant proportion of bike riders work outside of office hours - eg hospitals\n",
    "- Over counting at locations where cyclists make 'chained trips' that invovles some back tracking - eg a parent who is counted the first time riding with their kids to school, and counted a second time whne riding from their school to their work."
   ]
  },
  {
   "cell_type": "code",
   "execution_count": null,
   "metadata": {
    "collapsed": true
   },
   "outputs": [],
   "source": []
  }
 ],
 "metadata": {
  "kernelspec": {
   "display_name": "Python 2",
   "language": "python",
   "name": "python2"
  },
  "language_info": {
   "codemirror_mode": {
    "name": "ipython",
    "version": 2
   },
   "file_extension": ".py",
   "mimetype": "text/x-python",
   "name": "python",
   "nbconvert_exporter": "python",
   "pygments_lexer": "ipython2",
   "version": "2.7.13"
  }
 },
 "nbformat": 4,
 "nbformat_minor": 2
}
